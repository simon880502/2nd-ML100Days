{
 "cells": [
  {
   "cell_type": "markdown",
   "metadata": {},
   "source": [
    "## 練習時間\n",
    "資料的操作有很多，接下來的馬拉松中我們會介紹常被使用到的操作，參加者不妨先自行想像一下，第一次看到資料，我們一般會想知道什麼訊息？\n",
    "\n",
    "#### Ex: 如何知道資料的 row 數以及 column 數、有什麼欄位、多少欄位、如何截取部分的資料等等\n",
    "\n",
    "有了對資料的好奇之後，我們又怎麼通過程式碼來達成我們的目的呢？\n",
    "\n",
    "#### 可參考該[基礎教材](https://bookdata.readthedocs.io/en/latest/base/01_pandas.html#DataFrame-%E5%85%A5%E9%97%A8)或自行 google"
   ]
  },
  {
   "cell_type": "code",
   "execution_count": 1,
   "metadata": {},
   "outputs": [],
   "source": [
    "import os\n",
    "import numpy as np\n",
    "import pandas as pd"
   ]
  },
  {
   "cell_type": "code",
   "execution_count": 2,
   "metadata": {},
   "outputs": [],
   "source": [
    "# 設定 data_path\n",
    "dir_data = './data/'"
   ]
  },
  {
   "cell_type": "code",
   "execution_count": 4,
   "metadata": {},
   "outputs": [
    {
     "name": "stdout",
     "output_type": "stream",
     "text": [
      "Path of read in data: ./data/Suicide Rates.csv\n"
     ]
    }
   ],
   "source": [
    "f_app = os.path.join(dir_data, 'Suicide Rates.csv')\n",
    "print('Path of read in data: %s' % (f_app))\n",
    "sr = pd.read_csv(f_app)  #sr means  Suicide Rates"
   ]
  },
  {
   "cell_type": "markdown",
   "metadata": {},
   "source": [
    "### 如果沒有想法，可以先嘗試找出剛剛例子中提到的問題的答案\n",
    "#### 資料的 row 數以及 column 數"
   ]
  },
  {
   "cell_type": "code",
   "execution_count": 22,
   "metadata": {},
   "outputs": [
    {
     "name": "stdout",
     "output_type": "stream",
     "text": [
      "row = 27820\n",
      "col = 12\n"
     ]
    }
   ],
   "source": [
    "row,col=sr.shape\n",
    "print('row =',row)\n",
    "print('col =',col)"
   ]
  },
  {
   "cell_type": "markdown",
   "metadata": {},
   "source": [
    "#### 列出所有欄位"
   ]
  },
  {
   "cell_type": "code",
   "execution_count": 56,
   "metadata": {},
   "outputs": [
    {
     "data": {
      "text/plain": [
       "Index(['country', 'year', 'sex', 'age', 'suicides_no', 'population',\n",
       "       'suicides/100k pop', 'country-year', 'HDI for year',\n",
       "       ' gdp_for_year ($) ', 'gdp_per_capita ($)', 'generation'],\n",
       "      dtype='object')"
      ]
     },
     "execution_count": 56,
     "metadata": {},
     "output_type": "execute_result"
    }
   ],
   "source": [
    "sr.columns"
   ]
  },
  {
   "cell_type": "markdown",
   "metadata": {},
   "source": [
    "#### 截取部分資料"
   ]
  },
  {
   "cell_type": "code",
   "execution_count": 31,
   "metadata": {},
   "outputs": [
    {
     "data": {
      "text/html": [
       "<div>\n",
       "<style scoped>\n",
       "    .dataframe tbody tr th:only-of-type {\n",
       "        vertical-align: middle;\n",
       "    }\n",
       "\n",
       "    .dataframe tbody tr th {\n",
       "        vertical-align: top;\n",
       "    }\n",
       "\n",
       "    .dataframe thead th {\n",
       "        text-align: right;\n",
       "    }\n",
       "</style>\n",
       "<table border=\"1\" class=\"dataframe\">\n",
       "  <thead>\n",
       "    <tr style=\"text-align: right;\">\n",
       "      <th></th>\n",
       "      <th>country</th>\n",
       "      <th>year</th>\n",
       "      <th>sex</th>\n",
       "      <th>age</th>\n",
       "      <th>suicides_no</th>\n",
       "      <th>population</th>\n",
       "      <th>suicides/100k pop</th>\n",
       "      <th>country-year</th>\n",
       "      <th>HDI for year</th>\n",
       "      <th>gdp_for_year ($)</th>\n",
       "      <th>gdp_per_capita ($)</th>\n",
       "      <th>generation</th>\n",
       "    </tr>\n",
       "  </thead>\n",
       "  <tbody>\n",
       "    <tr>\n",
       "      <th>100</th>\n",
       "      <td>Albania</td>\n",
       "      <td>1997</td>\n",
       "      <td>female</td>\n",
       "      <td>15-24 years</td>\n",
       "      <td>21</td>\n",
       "      <td>294000</td>\n",
       "      <td>7.14</td>\n",
       "      <td>Albania1997</td>\n",
       "      <td>NaN</td>\n",
       "      <td>2,359,903,108</td>\n",
       "      <td>793</td>\n",
       "      <td>Generation X</td>\n",
       "    </tr>\n",
       "    <tr>\n",
       "      <th>2100</th>\n",
       "      <td>Austria</td>\n",
       "      <td>2011</td>\n",
       "      <td>male</td>\n",
       "      <td>35-54 years</td>\n",
       "      <td>336</td>\n",
       "      <td>1292255</td>\n",
       "      <td>26.00</td>\n",
       "      <td>Austria2011</td>\n",
       "      <td>0.881</td>\n",
       "      <td>431,120,310,089</td>\n",
       "      <td>53923</td>\n",
       "      <td>Generation X</td>\n",
       "    </tr>\n",
       "    <tr>\n",
       "      <th>4100</th>\n",
       "      <td>Belize</td>\n",
       "      <td>2012</td>\n",
       "      <td>male</td>\n",
       "      <td>55-74 years</td>\n",
       "      <td>3</td>\n",
       "      <td>12340</td>\n",
       "      <td>24.31</td>\n",
       "      <td>Belize2012</td>\n",
       "      <td>0.716</td>\n",
       "      <td>1,573,670,250</td>\n",
       "      <td>5264</td>\n",
       "      <td>Boomers</td>\n",
       "    </tr>\n",
       "    <tr>\n",
       "      <th>6100</th>\n",
       "      <td>Costa Rica</td>\n",
       "      <td>1992</td>\n",
       "      <td>female</td>\n",
       "      <td>35-54 years</td>\n",
       "      <td>4</td>\n",
       "      <td>300600</td>\n",
       "      <td>1.33</td>\n",
       "      <td>Costa Rica1992</td>\n",
       "      <td>NaN</td>\n",
       "      <td>8,528,593,084</td>\n",
       "      <td>3070</td>\n",
       "      <td>Boomers</td>\n",
       "    </tr>\n",
       "    <tr>\n",
       "      <th>8100</th>\n",
       "      <td>El Salvador</td>\n",
       "      <td>1992</td>\n",
       "      <td>female</td>\n",
       "      <td>55-74 years</td>\n",
       "      <td>2</td>\n",
       "      <td>227500</td>\n",
       "      <td>0.88</td>\n",
       "      <td>El Salvador1992</td>\n",
       "      <td>NaN</td>\n",
       "      <td>5,813,399,300</td>\n",
       "      <td>1266</td>\n",
       "      <td>Silent</td>\n",
       "    </tr>\n",
       "    <tr>\n",
       "      <th>10100</th>\n",
       "      <td>Greece</td>\n",
       "      <td>1991</td>\n",
       "      <td>female</td>\n",
       "      <td>55-74 years</td>\n",
       "      <td>26</td>\n",
       "      <td>1112085</td>\n",
       "      <td>2.34</td>\n",
       "      <td>Greece1991</td>\n",
       "      <td>NaN</td>\n",
       "      <td>105,143,232,380</td>\n",
       "      <td>10816</td>\n",
       "      <td>Silent</td>\n",
       "    </tr>\n",
       "    <tr>\n",
       "      <th>12100</th>\n",
       "      <td>Ireland</td>\n",
       "      <td>1988</td>\n",
       "      <td>female</td>\n",
       "      <td>75+ years</td>\n",
       "      <td>2</td>\n",
       "      <td>91600</td>\n",
       "      <td>2.18</td>\n",
       "      <td>Ireland1988</td>\n",
       "      <td>NaN</td>\n",
       "      <td>37,818,134,253</td>\n",
       "      <td>11696</td>\n",
       "      <td>G.I. Generation</td>\n",
       "    </tr>\n",
       "    <tr>\n",
       "      <th>14100</th>\n",
       "      <td>Kiribati</td>\n",
       "      <td>1995</td>\n",
       "      <td>female</td>\n",
       "      <td>35-54 years</td>\n",
       "      <td>0</td>\n",
       "      <td>7072</td>\n",
       "      <td>0.00</td>\n",
       "      <td>Kiribati1995</td>\n",
       "      <td>NaN</td>\n",
       "      <td>56,338,028</td>\n",
       "      <td>855</td>\n",
       "      <td>Boomers</td>\n",
       "    </tr>\n",
       "    <tr>\n",
       "      <th>16100</th>\n",
       "      <td>Malta</td>\n",
       "      <td>2009</td>\n",
       "      <td>male</td>\n",
       "      <td>55-74 years</td>\n",
       "      <td>9</td>\n",
       "      <td>45352</td>\n",
       "      <td>19.84</td>\n",
       "      <td>Malta2009</td>\n",
       "      <td>NaN</td>\n",
       "      <td>8,528,202,278</td>\n",
       "      <td>21695</td>\n",
       "      <td>Silent</td>\n",
       "    </tr>\n",
       "    <tr>\n",
       "      <th>18100</th>\n",
       "      <td>Norway</td>\n",
       "      <td>2005</td>\n",
       "      <td>male</td>\n",
       "      <td>15-24 years</td>\n",
       "      <td>50</td>\n",
       "      <td>290219</td>\n",
       "      <td>17.23</td>\n",
       "      <td>Norway2005</td>\n",
       "      <td>0.931</td>\n",
       "      <td>308,722,079,938</td>\n",
       "      <td>71215</td>\n",
       "      <td>Millenials</td>\n",
       "    </tr>\n",
       "    <tr>\n",
       "      <th>20100</th>\n",
       "      <td>Qatar</td>\n",
       "      <td>2006</td>\n",
       "      <td>male</td>\n",
       "      <td>75+ years</td>\n",
       "      <td>1</td>\n",
       "      <td>1511</td>\n",
       "      <td>66.18</td>\n",
       "      <td>Qatar2006</td>\n",
       "      <td>NaN</td>\n",
       "      <td>60,882,142,857</td>\n",
       "      <td>64762</td>\n",
       "      <td>Silent</td>\n",
       "    </tr>\n",
       "    <tr>\n",
       "      <th>22100</th>\n",
       "      <td>Serbia</td>\n",
       "      <td>2009</td>\n",
       "      <td>male</td>\n",
       "      <td>75+ years</td>\n",
       "      <td>204</td>\n",
       "      <td>212060</td>\n",
       "      <td>96.20</td>\n",
       "      <td>Serbia2009</td>\n",
       "      <td>NaN</td>\n",
       "      <td>42,616,653,300</td>\n",
       "      <td>6116</td>\n",
       "      <td>Silent</td>\n",
       "    </tr>\n",
       "    <tr>\n",
       "      <th>24100</th>\n",
       "      <td>Suriname</td>\n",
       "      <td>1990</td>\n",
       "      <td>female</td>\n",
       "      <td>35-54 years</td>\n",
       "      <td>0</td>\n",
       "      <td>32000</td>\n",
       "      <td>0.00</td>\n",
       "      <td>Suriname1990</td>\n",
       "      <td>NaN</td>\n",
       "      <td>388,300,000</td>\n",
       "      <td>1114</td>\n",
       "      <td>Silent</td>\n",
       "    </tr>\n",
       "    <tr>\n",
       "      <th>26100</th>\n",
       "      <td>Ukraine</td>\n",
       "      <td>1989</td>\n",
       "      <td>female</td>\n",
       "      <td>25-34 years</td>\n",
       "      <td>216</td>\n",
       "      <td>3945800</td>\n",
       "      <td>5.47</td>\n",
       "      <td>Ukraine1989</td>\n",
       "      <td>NaN</td>\n",
       "      <td>82,709,161,099</td>\n",
       "      <td>1732</td>\n",
       "      <td>Boomers</td>\n",
       "    </tr>\n",
       "  </tbody>\n",
       "</table>\n",
       "</div>"
      ],
      "text/plain": [
       "           country  year     sex          age  suicides_no  population  \\\n",
       "100        Albania  1997  female  15-24 years           21      294000   \n",
       "2100       Austria  2011    male  35-54 years          336     1292255   \n",
       "4100        Belize  2012    male  55-74 years            3       12340   \n",
       "6100    Costa Rica  1992  female  35-54 years            4      300600   \n",
       "8100   El Salvador  1992  female  55-74 years            2      227500   \n",
       "10100       Greece  1991  female  55-74 years           26     1112085   \n",
       "12100      Ireland  1988  female    75+ years            2       91600   \n",
       "14100     Kiribati  1995  female  35-54 years            0        7072   \n",
       "16100        Malta  2009    male  55-74 years            9       45352   \n",
       "18100       Norway  2005    male  15-24 years           50      290219   \n",
       "20100        Qatar  2006    male    75+ years            1        1511   \n",
       "22100       Serbia  2009    male    75+ years          204      212060   \n",
       "24100     Suriname  1990  female  35-54 years            0       32000   \n",
       "26100      Ukraine  1989  female  25-34 years          216     3945800   \n",
       "\n",
       "       suicides/100k pop     country-year  HDI for year  gdp_for_year ($)   \\\n",
       "100                 7.14      Albania1997           NaN      2,359,903,108   \n",
       "2100               26.00      Austria2011         0.881    431,120,310,089   \n",
       "4100               24.31       Belize2012         0.716      1,573,670,250   \n",
       "6100                1.33   Costa Rica1992           NaN      8,528,593,084   \n",
       "8100                0.88  El Salvador1992           NaN      5,813,399,300   \n",
       "10100               2.34       Greece1991           NaN    105,143,232,380   \n",
       "12100               2.18      Ireland1988           NaN     37,818,134,253   \n",
       "14100               0.00     Kiribati1995           NaN         56,338,028   \n",
       "16100              19.84        Malta2009           NaN      8,528,202,278   \n",
       "18100              17.23       Norway2005         0.931    308,722,079,938   \n",
       "20100              66.18        Qatar2006           NaN     60,882,142,857   \n",
       "22100              96.20       Serbia2009           NaN     42,616,653,300   \n",
       "24100               0.00     Suriname1990           NaN        388,300,000   \n",
       "26100               5.47      Ukraine1989           NaN     82,709,161,099   \n",
       "\n",
       "       gdp_per_capita ($)       generation  \n",
       "100                   793     Generation X  \n",
       "2100                53923     Generation X  \n",
       "4100                 5264          Boomers  \n",
       "6100                 3070          Boomers  \n",
       "8100                 1266           Silent  \n",
       "10100               10816           Silent  \n",
       "12100               11696  G.I. Generation  \n",
       "14100                 855          Boomers  \n",
       "16100               21695           Silent  \n",
       "18100               71215       Millenials  \n",
       "20100               64762           Silent  \n",
       "22100                6116           Silent  \n",
       "24100                1114           Silent  \n",
       "26100                1732          Boomers  "
      ]
     },
     "execution_count": 31,
     "metadata": {},
     "output_type": "execute_result"
    }
   ],
   "source": [
    "sr.iloc[100:-1:2000]"
   ]
  },
  {
   "cell_type": "markdown",
   "metadata": {},
   "source": [
    "#### 還有各種數之不盡的資料操作，重點還是取決於實務中遇到的狀況和你想問的問題，在馬拉松中我們也會陸續提到更多例子"
   ]
  },
  {
   "cell_type": "code",
   "execution_count": 52,
   "metadata": {},
   "outputs": [
    {
     "data": {
      "text/plain": [
       "'Uzbekistan'"
      ]
     },
     "execution_count": 52,
     "metadata": {},
     "output_type": "execute_result"
    }
   ],
   "source": [
    "sr['country'].max()"
   ]
  },
  {
   "cell_type": "code",
   "execution_count": 58,
   "metadata": {},
   "outputs": [],
   "source": [
    "sr.axes\n",
    "?sr.axes"
   ]
  },
  {
   "cell_type": "code",
   "execution_count": null,
   "metadata": {},
   "outputs": [],
   "source": []
  }
 ],
 "metadata": {
  "kernelspec": {
   "display_name": "Python 3",
   "language": "python",
   "name": "python3"
  },
  "language_info": {
   "codemirror_mode": {
    "name": "ipython",
    "version": 3
   },
   "file_extension": ".py",
   "mimetype": "text/x-python",
   "name": "python",
   "nbconvert_exporter": "python",
   "pygments_lexer": "ipython3",
   "version": "3.7.3"
  }
 },
 "nbformat": 4,
 "nbformat_minor": 2
}
