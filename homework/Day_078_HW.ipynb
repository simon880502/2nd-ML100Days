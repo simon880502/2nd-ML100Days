{
 "cells": [
  {
   "cell_type": "markdown",
   "metadata": {},
   "source": [
    "## Work\n",
    "1. 請嘗試將 preproc_x 替換成以每筆資料的 min/max 進行標準化至 -1 ~ 1 間，再進行訓練\n",
    "2. 請嘗試將 mlp 疊更深 (e.g 5~10 層)，進行訓練後觀察 learning curve 的走勢\n",
    "3. (optional) 請改用 GPU 進行訓練 (如果你有 GPU 的話)，比較使用 CPU 與 GPU 的訓練速度"
   ]
  },
  {
   "cell_type": "code",
   "execution_count": 27,
   "metadata": {},
   "outputs": [
    {
     "data": {
      "text/plain": [
       "'\\nYour code here (optional)\\n確認硬體資源\\n'"
      ]
     },
     "execution_count": 27,
     "metadata": {},
     "output_type": "execute_result"
    }
   ],
   "source": [
    "## \n",
    "\"\"\"\n",
    "Your code here (optional)\n",
    "確認硬體資源\n",
    "\"\"\"\n"
   ]
  },
  {
   "cell_type": "code",
   "execution_count": 28,
   "metadata": {},
   "outputs": [],
   "source": [
    "import os\n",
    "import keras\n",
    "\n",
    "# 請嘗試設定 GPU：os.environ\n"
   ]
  },
  {
   "cell_type": "code",
   "execution_count": 29,
   "metadata": {},
   "outputs": [],
   "source": [
    "train, test = keras.datasets.cifar10.load_data()"
   ]
  },
  {
   "cell_type": "code",
   "execution_count": 30,
   "metadata": {},
   "outputs": [],
   "source": [
    "## 資料前處理\n",
    "\"\"\"\n",
    "Your code here\n",
    "\"\"\"\n",
    "def preproc_x(x,flatten=True):\n",
    "    x =(((x-x.min())/(x.max()-x.min()))-0.5)*2\n",
    "    if flatten:\n",
    "        x = x.reshape((len(x), -1))\n",
    "    return x\n",
    "\n",
    "def preproc_y(y,num_classes=10):\n",
    "    if y.shape[-1] == 1:\n",
    "        y = keras.utils.to_categorical(y, num_classes)\n",
    "    return y    "
   ]
  },
  {
   "cell_type": "code",
   "execution_count": 31,
   "metadata": {},
   "outputs": [],
   "source": [
    "x_train, y_train = train\n",
    "x_test, y_test = test\n",
    "\n",
    "# Preproc the inputs\n",
    "x_train = preproc_x(x_train)\n",
    "x_test = preproc_x(x_test)\n",
    "\n",
    "# Preprc the outputs\n",
    "y_train = preproc_y(y_train)\n",
    "y_test = preproc_y(y_test)"
   ]
  },
  {
   "cell_type": "code",
   "execution_count": 32,
   "metadata": {},
   "outputs": [
    {
     "name": "stdout",
     "output_type": "stream",
     "text": [
      "_________________________________________________________________\n",
      "Layer (type)                 Output Shape              Param #   \n",
      "=================================================================\n",
      "input_3 (InputLayer)         (None, 3072)              0         \n",
      "_________________________________________________________________\n",
      "hidden_layer1 (Dense)        (None, 512)               1573376   \n",
      "_________________________________________________________________\n",
      "hidden_layer2 (Dense)        (None, 256)               131328    \n",
      "_________________________________________________________________\n",
      "hidden_layer3 (Dense)        (None, 128)               32896     \n",
      "_________________________________________________________________\n",
      "hidden_layer4 (Dense)        (None, 128)               16512     \n",
      "_________________________________________________________________\n",
      "hidden_layer5 (Dense)        (None, 128)               16512     \n",
      "_________________________________________________________________\n",
      "output (Dense)               (None, 10)                1290      \n",
      "=================================================================\n",
      "Total params: 1,771,914\n",
      "Trainable params: 1,771,914\n",
      "Non-trainable params: 0\n",
      "_________________________________________________________________\n"
     ]
    }
   ],
   "source": [
    "\"\"\"Code Here\n",
    "建立你的神經網路\n",
    "\"\"\"\n",
    "def build_mlp(input_shape, output_units=10, num_neurons=[512, 256, 128, 128, 128]):\n",
    "    input_layer = keras.layers.Input(input_shape)\n",
    "    \n",
    "    for i, n_units in enumerate(num_neurons):\n",
    "        if i == 0:\n",
    "            x = keras.layers.Dense(units=n_units, activation=\"relu\", name=\"hidden_layer\"+str(i+1))(input_layer)\n",
    "        else:\n",
    "            x = keras.layers.Dense(units=n_units, activation=\"relu\", name=\"hidden_layer\"+str(i+1))(x)\n",
    "    \n",
    "    out = keras.layers.Dense(units=output_units, activation=\"softmax\", name=\"output\")(x)\n",
    "    \n",
    "    model = keras.models.Model(inputs=[input_layer], outputs=[out])\n",
    "    return model\n",
    "model = build_mlp(input_shape=x_train.shape[1:])\n",
    "model.summary()"
   ]
  },
  {
   "cell_type": "code",
   "execution_count": 33,
   "metadata": {},
   "outputs": [],
   "source": [
    "## 超參數設定\n",
    "LEARNING_RATE = 0.001\n",
    "EPOCHS = 100\n",
    "BATCH_SIZE = 256"
   ]
  },
  {
   "cell_type": "code",
   "execution_count": 34,
   "metadata": {},
   "outputs": [
    {
     "name": "stderr",
     "output_type": "stream",
     "text": [
      "W0803 11:40:06.548840  3224 deprecation_wrapper.py:119] From C:\\Users\\simon880502\\Anaconda3\\lib\\site-packages\\keras\\optimizers.py:790: The name tf.train.Optimizer is deprecated. Please use tf.compat.v1.train.Optimizer instead.\n",
      "\n",
      "W0803 11:40:06.620823  3224 deprecation_wrapper.py:119] From C:\\Users\\simon880502\\Anaconda3\\lib\\site-packages\\keras\\backend\\tensorflow_backend.py:3295: The name tf.log is deprecated. Please use tf.math.log instead.\n",
      "\n"
     ]
    }
   ],
   "source": [
    "optimizer = keras.optimizers.Adam(lr=LEARNING_RATE)\n",
    "model.compile(loss=\"categorical_crossentropy\", metrics=[\"accuracy\"], optimizer=optimizer)"
   ]
  },
  {
   "cell_type": "code",
   "execution_count": 35,
   "metadata": {},
   "outputs": [
    {
     "name": "stderr",
     "output_type": "stream",
     "text": [
      "W0803 11:40:07.140709  3224 deprecation.py:323] From C:\\Users\\simon880502\\Anaconda3\\lib\\site-packages\\tensorflow\\python\\ops\\math_grad.py:1250: add_dispatch_support.<locals>.wrapper (from tensorflow.python.ops.array_ops) is deprecated and will be removed in a future version.\n",
      "Instructions for updating:\n",
      "Use tf.where in 2.0, which has the same broadcast rule as np.where\n",
      "W0803 11:40:07.308662  3224 deprecation_wrapper.py:119] From C:\\Users\\simon880502\\Anaconda3\\lib\\site-packages\\keras\\backend\\tensorflow_backend.py:986: The name tf.assign_add is deprecated. Please use tf.compat.v1.assign_add instead.\n",
      "\n"
     ]
    },
    {
     "name": "stdout",
     "output_type": "stream",
     "text": [
      "Train on 50000 samples, validate on 10000 samples\n",
      "Epoch 1/100\n",
      "50000/50000 [==============================] - 22s 442us/step - loss: 1.6879 - acc: 0.3998 - val_loss: 1.5376 - val_acc: 0.4549\n",
      "Epoch 2/100\n",
      "50000/50000 [==============================] - 15s 307us/step - loss: 1.4632 - acc: 0.4834 - val_loss: 1.4307 - val_acc: 0.4949\n",
      "Epoch 3/100\n",
      "50000/50000 [==============================] - 14s 288us/step - loss: 1.3469 - acc: 0.5232 - val_loss: 1.4186 - val_acc: 0.4947\n",
      "Epoch 4/100\n",
      "50000/50000 [==============================] - 15s 295us/step - loss: 1.2532 - acc: 0.5580 - val_loss: 1.3883 - val_acc: 0.5148\n",
      "Epoch 5/100\n",
      "50000/50000 [==============================] - 14s 284us/step - loss: 1.1707 - acc: 0.5857 - val_loss: 1.3625 - val_acc: 0.5257\n",
      "Epoch 6/100\n",
      "50000/50000 [==============================] - 14s 289us/step - loss: 1.0902 - acc: 0.6127 - val_loss: 1.3537 - val_acc: 0.5354\n",
      "Epoch 7/100\n",
      "50000/50000 [==============================] - 15s 291us/step - loss: 1.0161 - acc: 0.6383 - val_loss: 1.3710 - val_acc: 0.5308\n",
      "Epoch 8/100\n",
      "50000/50000 [==============================] - 15s 300us/step - loss: 0.9438 - acc: 0.6640 - val_loss: 1.3835 - val_acc: 0.5470\n",
      "Epoch 9/100\n",
      "50000/50000 [==============================] - 15s 304us/step - loss: 0.8772 - acc: 0.6883 - val_loss: 1.4257 - val_acc: 0.5418\n",
      "Epoch 10/100\n",
      "50000/50000 [==============================] - 15s 303us/step - loss: 0.8127 - acc: 0.7093 - val_loss: 1.4881 - val_acc: 0.5388\n",
      "Epoch 11/100\n",
      "50000/50000 [==============================] - 15s 294us/step - loss: 0.7444 - acc: 0.7332 - val_loss: 1.5024 - val_acc: 0.5407\n",
      "Epoch 12/100\n",
      "50000/50000 [==============================] - 15s 296us/step - loss: 0.6789 - acc: 0.7580 - val_loss: 1.5612 - val_acc: 0.5375\n",
      "Epoch 13/100\n",
      "50000/50000 [==============================] - 16s 316us/step - loss: 0.6256 - acc: 0.7782 - val_loss: 1.5998 - val_acc: 0.5416\n",
      "Epoch 14/100\n",
      "50000/50000 [==============================] - 18s 355us/step - loss: 0.5681 - acc: 0.7987 - val_loss: 1.6998 - val_acc: 0.5334\n",
      "Epoch 15/100\n",
      "50000/50000 [==============================] - 18s 358us/step - loss: 0.5249 - acc: 0.8143 - val_loss: 1.7966 - val_acc: 0.5408\n",
      "Epoch 16/100\n",
      "50000/50000 [==============================] - 19s 379us/step - loss: 0.4852 - acc: 0.8276 - val_loss: 1.9317 - val_acc: 0.5380\n",
      "Epoch 17/100\n",
      "50000/50000 [==============================] - 16s 325us/step - loss: 0.4569 - acc: 0.8385 - val_loss: 1.9611 - val_acc: 0.5302\n",
      "Epoch 18/100\n",
      "50000/50000 [==============================] - 17s 347us/step - loss: 0.4136 - acc: 0.8538 - val_loss: 2.0280 - val_acc: 0.5337\n",
      "Epoch 19/100\n",
      "50000/50000 [==============================] - 19s 380us/step - loss: 0.3850 - acc: 0.8639 - val_loss: 2.0615 - val_acc: 0.5485\n",
      "Epoch 20/100\n",
      "50000/50000 [==============================] - 17s 336us/step - loss: 0.3544 - acc: 0.8741 - val_loss: 2.1735 - val_acc: 0.5306\n",
      "Epoch 21/100\n",
      "50000/50000 [==============================] - 30s 594us/step - loss: 0.3367 - acc: 0.8814 - val_loss: 2.3600 - val_acc: 0.5297\n",
      "Epoch 22/100\n",
      "50000/50000 [==============================] - 35s 703us/step - loss: 0.3234 - acc: 0.8843 - val_loss: 2.3641 - val_acc: 0.5362\n",
      "Epoch 23/100\n",
      "50000/50000 [==============================] - 21s 416us/step - loss: 0.2907 - acc: 0.8978 - val_loss: 2.4377 - val_acc: 0.5299\n",
      "Epoch 24/100\n",
      "50000/50000 [==============================] - 33s 664us/step - loss: 0.2676 - acc: 0.9066 - val_loss: 2.5575 - val_acc: 0.5369\n",
      "Epoch 25/100\n",
      "50000/50000 [==============================] - 23s 458us/step - loss: 0.2552 - acc: 0.9113 - val_loss: 2.5503 - val_acc: 0.5235\n",
      "Epoch 26/100\n",
      "50000/50000 [==============================] - 18s 366us/step - loss: 0.2423 - acc: 0.9160 - val_loss: 2.6680 - val_acc: 0.5308\n",
      "Epoch 27/100\n",
      "50000/50000 [==============================] - 20s 395us/step - loss: 0.2359 - acc: 0.9184 - val_loss: 2.7622 - val_acc: 0.5329\n",
      "Epoch 28/100\n",
      "50000/50000 [==============================] - 14s 279us/step - loss: 0.2247 - acc: 0.9221 - val_loss: 2.7040 - val_acc: 0.5365\n",
      "Epoch 29/100\n",
      "50000/50000 [==============================] - 14s 280us/step - loss: 0.2194 - acc: 0.9246 - val_loss: 2.7352 - val_acc: 0.5359\n",
      "Epoch 30/100\n",
      "50000/50000 [==============================] - 13s 258us/step - loss: 0.1887 - acc: 0.9345 - val_loss: 2.9672 - val_acc: 0.5355\n",
      "Epoch 31/100\n",
      "50000/50000 [==============================] - 12s 244us/step - loss: 0.1957 - acc: 0.9342 - val_loss: 2.9339 - val_acc: 0.5340\n",
      "Epoch 32/100\n",
      "50000/50000 [==============================] - 12s 239us/step - loss: 0.1894 - acc: 0.9347 - val_loss: 2.8877 - val_acc: 0.5358\n",
      "Epoch 33/100\n",
      "50000/50000 [==============================] - 12s 244us/step - loss: 0.1866 - acc: 0.9358 - val_loss: 2.9928 - val_acc: 0.5299\n",
      "Epoch 34/100\n",
      "50000/50000 [==============================] - 13s 261us/step - loss: 0.1699 - acc: 0.9418 - val_loss: 3.0275 - val_acc: 0.5416\n",
      "Epoch 35/100\n",
      "50000/50000 [==============================] - 12s 243us/step - loss: 0.1626 - acc: 0.9439 - val_loss: 3.1308 - val_acc: 0.5262\n",
      "Epoch 36/100\n",
      "50000/50000 [==============================] - 12s 245us/step - loss: 0.1740 - acc: 0.9405 - val_loss: 3.1426 - val_acc: 0.5321\n",
      "Epoch 37/100\n",
      "50000/50000 [==============================] - 12s 246us/step - loss: 0.1702 - acc: 0.9429 - val_loss: 3.1023 - val_acc: 0.5299\n",
      "Epoch 38/100\n",
      "50000/50000 [==============================] - 12s 246us/step - loss: 0.1565 - acc: 0.9463 - val_loss: 3.2084 - val_acc: 0.5320\n",
      "Epoch 39/100\n",
      "50000/50000 [==============================] - 12s 249us/step - loss: 0.1526 - acc: 0.9486 - val_loss: 3.1349 - val_acc: 0.5288\n",
      "Epoch 40/100\n",
      "50000/50000 [==============================] - 13s 261us/step - loss: 0.1509 - acc: 0.9489 - val_loss: 3.2078 - val_acc: 0.5397\n",
      "Epoch 41/100\n",
      "50000/50000 [==============================] - 12s 246us/step - loss: 0.1385 - acc: 0.9540 - val_loss: 3.2714 - val_acc: 0.5290\n",
      "Epoch 42/100\n",
      "50000/50000 [==============================] - 12s 246us/step - loss: 0.1470 - acc: 0.9502 - val_loss: 3.2456 - val_acc: 0.5291\n",
      "Epoch 43/100\n",
      "50000/50000 [==============================] - 12s 242us/step - loss: 0.1418 - acc: 0.9512 - val_loss: 3.3001 - val_acc: 0.5298\n",
      "Epoch 44/100\n",
      "50000/50000 [==============================] - 13s 250us/step - loss: 0.1285 - acc: 0.9567 - val_loss: 3.3740 - val_acc: 0.5345\n",
      "Epoch 45/100\n",
      "50000/50000 [==============================] - 13s 252us/step - loss: 0.1189 - acc: 0.9596 - val_loss: 3.3819 - val_acc: 0.5326\n",
      "Epoch 46/100\n",
      "50000/50000 [==============================] - 12s 248us/step - loss: 0.1313 - acc: 0.9562 - val_loss: 3.4096 - val_acc: 0.5323\n",
      "Epoch 47/100\n",
      "50000/50000 [==============================] - 12s 240us/step - loss: 0.1355 - acc: 0.9551 - val_loss: 3.4411 - val_acc: 0.5298\n",
      "Epoch 48/100\n",
      "50000/50000 [==============================] - 12s 241us/step - loss: 0.1340 - acc: 0.9544 - val_loss: 3.4587 - val_acc: 0.5336\n",
      "Epoch 49/100\n",
      "50000/50000 [==============================] - 12s 241us/step - loss: 0.1316 - acc: 0.9557 - val_loss: 3.3766 - val_acc: 0.5364\n",
      "Epoch 50/100\n",
      "50000/50000 [==============================] - 12s 240us/step - loss: 0.1007 - acc: 0.9670 - val_loss: 3.5127 - val_acc: 0.5329\n",
      "Epoch 51/100\n",
      "50000/50000 [==============================] - 12s 242us/step - loss: 0.1183 - acc: 0.9601 - val_loss: 3.4859 - val_acc: 0.5274\n",
      "Epoch 52/100\n",
      "50000/50000 [==============================] - 12s 243us/step - loss: 0.1198 - acc: 0.9604 - val_loss: 3.4693 - val_acc: 0.5230\n",
      "Epoch 53/100\n",
      "50000/50000 [==============================] - 12s 243us/step - loss: 0.1109 - acc: 0.9635 - val_loss: 3.5358 - val_acc: 0.5363\n",
      "Epoch 54/100\n",
      "50000/50000 [==============================] - 12s 246us/step - loss: 0.1109 - acc: 0.9632 - val_loss: 3.5184 - val_acc: 0.5359\n",
      "Epoch 55/100\n",
      "50000/50000 [==============================] - 12s 243us/step - loss: 0.1166 - acc: 0.9612 - val_loss: 3.3718 - val_acc: 0.5292\n",
      "Epoch 56/100\n",
      "50000/50000 [==============================] - 12s 242us/step - loss: 0.1252 - acc: 0.9584 - val_loss: 3.4679 - val_acc: 0.5403\n",
      "Epoch 57/100\n",
      "50000/50000 [==============================] - 12s 242us/step - loss: 0.1036 - acc: 0.9651 - val_loss: 3.5290 - val_acc: 0.5346\n",
      "Epoch 58/100\n",
      "50000/50000 [==============================] - 12s 243us/step - loss: 0.1036 - acc: 0.9665 - val_loss: 3.6153 - val_acc: 0.5335\n"
     ]
    },
    {
     "name": "stdout",
     "output_type": "stream",
     "text": [
      "Epoch 59/100\n",
      "50000/50000 [==============================] - 12s 241us/step - loss: 0.1188 - acc: 0.9611 - val_loss: 3.5467 - val_acc: 0.5296\n",
      "Epoch 60/100\n",
      "50000/50000 [==============================] - 12s 240us/step - loss: 0.1060 - acc: 0.9644 - val_loss: 3.4493 - val_acc: 0.5360\n",
      "Epoch 61/100\n",
      "50000/50000 [==============================] - 12s 241us/step - loss: 0.1112 - acc: 0.9633 - val_loss: 3.5740 - val_acc: 0.5409\n",
      "Epoch 62/100\n",
      "50000/50000 [==============================] - 12s 240us/step - loss: 0.0930 - acc: 0.9694 - val_loss: 3.6144 - val_acc: 0.5239\n",
      "Epoch 63/100\n",
      "50000/50000 [==============================] - 12s 240us/step - loss: 0.0955 - acc: 0.9687 - val_loss: 3.6466 - val_acc: 0.5312\n",
      "Epoch 64/100\n",
      "50000/50000 [==============================] - 12s 242us/step - loss: 0.0892 - acc: 0.9709 - val_loss: 3.6960 - val_acc: 0.5349\n",
      "Epoch 65/100\n",
      "50000/50000 [==============================] - 12s 243us/step - loss: 0.0854 - acc: 0.9717 - val_loss: 3.7854 - val_acc: 0.5262\n",
      "Epoch 66/100\n",
      "50000/50000 [==============================] - 12s 240us/step - loss: 0.1120 - acc: 0.9627 - val_loss: 3.4689 - val_acc: 0.5317\n",
      "Epoch 67/100\n",
      "50000/50000 [==============================] - 12s 240us/step - loss: 0.1046 - acc: 0.9657 - val_loss: 3.6076 - val_acc: 0.5290\n",
      "Epoch 68/100\n",
      "50000/50000 [==============================] - 12s 239us/step - loss: 0.0839 - acc: 0.9728 - val_loss: 3.6620 - val_acc: 0.5327\n",
      "Epoch 69/100\n",
      "50000/50000 [==============================] - 12s 240us/step - loss: 0.0945 - acc: 0.9695 - val_loss: 3.7430 - val_acc: 0.5281\n",
      "Epoch 70/100\n",
      "50000/50000 [==============================] - 12s 247us/step - loss: 0.0902 - acc: 0.9706 - val_loss: 3.6055 - val_acc: 0.5341\n",
      "Epoch 71/100\n",
      "50000/50000 [==============================] - 12s 242us/step - loss: 0.0947 - acc: 0.9695 - val_loss: 3.7508 - val_acc: 0.5295\n",
      "Epoch 72/100\n",
      "50000/50000 [==============================] - 12s 242us/step - loss: 0.0813 - acc: 0.9738 - val_loss: 3.6838 - val_acc: 0.5282\n",
      "Epoch 73/100\n",
      "50000/50000 [==============================] - 12s 239us/step - loss: 0.0981 - acc: 0.9688 - val_loss: 3.5645 - val_acc: 0.5313\n",
      "Epoch 74/100\n",
      "50000/50000 [==============================] - 12s 242us/step - loss: 0.0834 - acc: 0.9734 - val_loss: 3.7130 - val_acc: 0.5363\n",
      "Epoch 75/100\n",
      "50000/50000 [==============================] - 12s 239us/step - loss: 0.0793 - acc: 0.9745 - val_loss: 3.7624 - val_acc: 0.5340\n",
      "Epoch 76/100\n",
      "50000/50000 [==============================] - 12s 239us/step - loss: 0.0756 - acc: 0.9752 - val_loss: 3.7778 - val_acc: 0.5273\n",
      "Epoch 77/100\n",
      "50000/50000 [==============================] - 12s 241us/step - loss: 0.0912 - acc: 0.9710 - val_loss: 3.7978 - val_acc: 0.5317\n",
      "Epoch 78/100\n",
      "50000/50000 [==============================] - 12s 241us/step - loss: 0.0932 - acc: 0.9703 - val_loss: 3.6756 - val_acc: 0.5405\n",
      "Epoch 79/100\n",
      "50000/50000 [==============================] - 12s 243us/step - loss: 0.0806 - acc: 0.9740 - val_loss: 3.8575 - val_acc: 0.5295\n",
      "Epoch 80/100\n",
      "50000/50000 [==============================] - 12s 244us/step - loss: 0.0933 - acc: 0.9706 - val_loss: 3.6241 - val_acc: 0.5295\n",
      "Epoch 81/100\n",
      "50000/50000 [==============================] - 12s 241us/step - loss: 0.0801 - acc: 0.9739 - val_loss: 3.7208 - val_acc: 0.5331\n",
      "Epoch 82/100\n",
      "50000/50000 [==============================] - 12s 241us/step - loss: 0.0840 - acc: 0.9726 - val_loss: 3.7457 - val_acc: 0.5414\n",
      "Epoch 83/100\n",
      "50000/50000 [==============================] - 12s 240us/step - loss: 0.0577 - acc: 0.9803 - val_loss: 3.8082 - val_acc: 0.5382\n",
      "Epoch 84/100\n",
      "50000/50000 [==============================] - 12s 243us/step - loss: 0.0743 - acc: 0.9759 - val_loss: 3.9102 - val_acc: 0.5319\n",
      "Epoch 85/100\n",
      "50000/50000 [==============================] - 13s 252us/step - loss: 0.0975 - acc: 0.9685 - val_loss: 3.7500 - val_acc: 0.5292\n",
      "Epoch 86/100\n",
      "50000/50000 [==============================] - 12s 244us/step - loss: 0.0673 - acc: 0.9785 - val_loss: 3.8246 - val_acc: 0.5338\n",
      "Epoch 87/100\n",
      "50000/50000 [==============================] - 12s 242us/step - loss: 0.0938 - acc: 0.9698 - val_loss: 3.7575 - val_acc: 0.5293\n",
      "Epoch 88/100\n",
      "50000/50000 [==============================] - 12s 246us/step - loss: 0.0742 - acc: 0.9758 - val_loss: 3.8813 - val_acc: 0.5336\n",
      "Epoch 89/100\n",
      "50000/50000 [==============================] - 12s 244us/step - loss: 0.0673 - acc: 0.9786 - val_loss: 3.9018 - val_acc: 0.5315\n",
      "Epoch 90/100\n",
      "50000/50000 [==============================] - 12s 247us/step - loss: 0.0815 - acc: 0.9732 - val_loss: 3.7498 - val_acc: 0.5378\n",
      "Epoch 91/100\n",
      "50000/50000 [==============================] - 12s 245us/step - loss: 0.0701 - acc: 0.9777 - val_loss: 3.8326 - val_acc: 0.5367\n",
      "Epoch 92/100\n",
      "50000/50000 [==============================] - 12s 242us/step - loss: 0.0643 - acc: 0.9793 - val_loss: 3.9008 - val_acc: 0.5379\n",
      "Epoch 93/100\n",
      "50000/50000 [==============================] - 12s 244us/step - loss: 0.0642 - acc: 0.9789 - val_loss: 3.8467 - val_acc: 0.5342\n",
      "Epoch 94/100\n",
      "50000/50000 [==============================] - 12s 246us/step - loss: 0.0816 - acc: 0.9749 - val_loss: 3.7390 - val_acc: 0.5380\n",
      "Epoch 95/100\n",
      "50000/50000 [==============================] - 13s 255us/step - loss: 0.0690 - acc: 0.9777 - val_loss: 3.7877 - val_acc: 0.5348\n",
      "Epoch 96/100\n",
      "50000/50000 [==============================] - 12s 243us/step - loss: 0.0666 - acc: 0.9785 - val_loss: 3.8621 - val_acc: 0.5331\n",
      "Epoch 97/100\n",
      "50000/50000 [==============================] - 12s 241us/step - loss: 0.0858 - acc: 0.9727 - val_loss: 3.6500 - val_acc: 0.5369\n",
      "Epoch 98/100\n",
      "50000/50000 [==============================] - 12s 242us/step - loss: 0.0579 - acc: 0.9812 - val_loss: 3.8850 - val_acc: 0.5317\n",
      "Epoch 99/100\n",
      "50000/50000 [==============================] - 12s 242us/step - loss: 0.0741 - acc: 0.9761 - val_loss: 3.7684 - val_acc: 0.5355\n",
      "Epoch 100/100\n",
      "50000/50000 [==============================] - 12s 242us/step - loss: 0.0627 - acc: 0.9800 - val_loss: 3.8268 - val_acc: 0.5361\n"
     ]
    },
    {
     "data": {
      "text/plain": [
       "<keras.callbacks.History at 0x206002d4240>"
      ]
     },
     "execution_count": 35,
     "metadata": {},
     "output_type": "execute_result"
    }
   ],
   "source": [
    "model.fit(x_train, y_train, \n",
    "          epochs=EPOCHS, \n",
    "          batch_size=BATCH_SIZE, \n",
    "          validation_data=(x_test, y_test), \n",
    "          shuffle=True)"
   ]
  },
  {
   "cell_type": "code",
   "execution_count": 36,
   "metadata": {},
   "outputs": [
    {
     "data": {
      "text/plain": [
       "<Figure size 640x480 with 1 Axes>"
      ]
     },
     "metadata": {},
     "output_type": "display_data"
    },
    {
     "data": {
      "text/plain": [
       "<Figure size 640x480 with 1 Axes>"
      ]
     },
     "metadata": {},
     "output_type": "display_data"
    }
   ],
   "source": [
    "import matplotlib.pyplot as plt\n",
    "\n",
    "\n",
    "train_loss = model.history.history[\"loss\"]\n",
    "valid_loss = model.history.history[\"val_loss\"]\n",
    "\n",
    "train_acc = model.history.history[\"acc\"]\n",
    "valid_acc = model.history.history[\"val_acc\"]\n",
    "\n",
    "plt.plot(range(len(train_loss)), train_loss, label=\"train loss\")\n",
    "plt.plot(range(len(valid_loss)), valid_loss, label=\"valid loss\")\n",
    "plt.legend()\n",
    "plt.title(\"Loss\")\n",
    "plt.show()\n",
    "\n",
    "plt.plot(range(len(train_acc)), train_acc, label=\"train accuracy\")\n",
    "plt.plot(range(len(valid_acc)), valid_acc, label=\"valid accuracy\")\n",
    "plt.legend()\n",
    "plt.title(\"Accuracy\")\n",
    "plt.show()"
   ]
  }
 ],
 "metadata": {
  "kernelspec": {
   "display_name": "Python 3",
   "language": "python",
   "name": "python3"
  },
  "language_info": {
   "codemirror_mode": {
    "name": "ipython",
    "version": 3
   },
   "file_extension": ".py",
   "mimetype": "text/x-python",
   "name": "python",
   "nbconvert_exporter": "python",
   "pygments_lexer": "ipython3",
   "version": "3.6.4"
  }
 },
 "nbformat": 4,
 "nbformat_minor": 2
}
